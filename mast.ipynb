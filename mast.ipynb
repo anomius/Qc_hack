{
 "cells": [
  {
   "cell_type": "code",
   "execution_count": 1,
   "id": "silent-banking",
   "metadata": {},
   "outputs": [],
   "source": [
    "import numpy as np\n",
    "# Importing standard Qiskit libraries\n",
    "from qiskit import QuantumCircuit, QuantumRegister, transpile, Aer, IBMQ, execute\n",
    "from qiskit.quantum_info import Operator, partial_trace\n",
    "from qiskit.providers.ibmq import least_busy\n",
    "from qiskit.tools.jupyter import *\n",
    "from qiskit.visualization import *\n",
    "\n",
    "# Loading your IBM Q account(s)\n",
    "#IBMQ.save_account('a32b02193ca40f441c315c469b98d0ccd74e2093d6e74fe0e9c97d7413a824e85a4a7b09accbecde5a7ff10d8c033c9e9dfbc39f0c62441ee594d34a608ac268')\n",
    "\n",
    "provider = IBMQ.load_account()"
   ]
  },
  {
   "cell_type": "code",
   "execution_count": 2,
   "id": "naval-premiere",
   "metadata": {},
   "outputs": [],
   "source": [
    "def phase_oracle(n, indices_to_make, name='Magic'):\n",
    "    qc = QuantumCircuit(n,name=name)\n",
    "    matx =np.identity(2**n)\n",
    "    for index in indices_to_make:\n",
    "        matx[index,index]=-1\n",
    "    qc.unitary(Operator(matx),range(n))\n",
    "    qc.draw()\n",
    "    return qc\n",
    "\n",
    "\n",
    "def diffuser(n):\n",
    "    qc = QuantumCircuit(n,name='Diff')\n",
    "    qc.h(range(n))\n",
    "    qc.append(phase_oracle(n,[0]),range(n))\n",
    "    qc.h(range(n))\n",
    "    qc.draw()\n",
    "    return qc\n",
    "\n",
    "# big ball of wibbly-wobbly, timey-wimey\n",
    "def something(n,marked):\n",
    "    qc = QuantumCircuit(n, n)\n",
    "    print(f'{n} qubits, basis state {marked} marked')\n",
    "    qc.h(range(n))\n",
    "    qc.append(phase_oracle(n,marked),range(n))\n",
    "    qc.append(diffuser(n),range(n))\n",
    "    \n",
    "    qc.measure(range(n),range(n))\n",
    "    return qc"
   ]
  },
  {
   "cell_type": "code",
   "execution_count": 3,
   "id": "magnetic-chrome",
   "metadata": {},
   "outputs": [
    {
     "name": "stdout",
     "output_type": "stream",
     "text": [
      "5 qubits, basis state [2] marked\n"
     ]
    },
    {
     "data": {
      "text/html": [
       "<pre style=\"word-wrap: normal;white-space: pre;background: #fff0;line-height: 1.1;font-family: &quot;Courier New&quot;,Courier,monospace\">     ┌───┐┌────────┐┌───────┐┌─┐            \n",
       "q_0: ┤ H ├┤0       ├┤0      ├┤M├────────────\n",
       "     ├───┤│        ││       │└╥┘┌─┐         \n",
       "q_1: ┤ H ├┤1       ├┤1      ├─╫─┤M├─────────\n",
       "     ├───┤│        ││       │ ║ └╥┘┌─┐      \n",
       "q_2: ┤ H ├┤2 Magic ├┤2 Diff ├─╫──╫─┤M├──────\n",
       "     ├───┤│        ││       │ ║  ║ └╥┘┌─┐   \n",
       "q_3: ┤ H ├┤3       ├┤3      ├─╫──╫──╫─┤M├───\n",
       "     ├───┤│        ││       │ ║  ║  ║ └╥┘┌─┐\n",
       "q_4: ┤ H ├┤4       ├┤4      ├─╫──╫──╫──╫─┤M├\n",
       "     └───┘└────────┘└───────┘ ║  ║  ║  ║ └╥┘\n",
       "c: 5/═════════════════════════╩══╩══╩══╩══╩═\n",
       "                              0  1  2  3  4 </pre>"
      ],
      "text/plain": [
       "     ┌───┐┌────────┐┌───────┐┌─┐            \n",
       "q_0: ┤ H ├┤0       ├┤0      ├┤M├────────────\n",
       "     ├───┤│        ││       │└╥┘┌─┐         \n",
       "q_1: ┤ H ├┤1       ├┤1      ├─╫─┤M├─────────\n",
       "     ├───┤│        ││       │ ║ └╥┘┌─┐      \n",
       "q_2: ┤ H ├┤2 Magic ├┤2 Diff ├─╫──╫─┤M├──────\n",
       "     ├───┤│        ││       │ ║  ║ └╥┘┌─┐   \n",
       "q_3: ┤ H ├┤3       ├┤3      ├─╫──╫──╫─┤M├───\n",
       "     ├───┤│        ││       │ ║  ║  ║ └╥┘┌─┐\n",
       "q_4: ┤ H ├┤4       ├┤4      ├─╫──╫──╫──╫─┤M├\n",
       "     └───┘└────────┘└───────┘ ║  ║  ║  ║ └╥┘\n",
       "c: 5/═════════════════════════╩══╩══╩══╩══╩═\n",
       "                              0  1  2  3  4 "
      ]
     },
     "execution_count": 3,
     "metadata": {},
     "output_type": "execute_result"
    }
   ],
   "source": [
    "n=5\n",
    "x=np.random.randint(20)\n",
    "marked=[x]\n",
    "qc=something(n,marked)\n",
    "\n",
    "qc.draw()"
   ]
  },
  {
   "cell_type": "code",
   "execution_count": 4,
   "id": "built-netscape",
   "metadata": {},
   "outputs": [
    {
     "name": "stdout",
     "output_type": "stream",
     "text": [
      "{'00000': 54, '00001': 43, '10000': 65, '10001': 45, '10010': 59, '10011': 48, '10100': 49, '10101': 52, '10110': 42, '10111': 42, '11000': 62, '11001': 48, '11010': 54, '11011': 37, '11100': 52, '11101': 51, '11110': 35, '11111': 36, '00010': 529, '00011': 50, '00100': 53, '00101': 53, '00110': 51, '00111': 44, '01000': 43, '01001': 50, '01010': 44, '01011': 61, '01100': 40, '01101': 45, '01110': 52, '01111': 59}\n"
     ]
    },
    {
     "data": {
      "image/png": "[encoded data removed]",
      "text/plain": [
       "<Figure size 504x360 with 1 Axes>"
      ]
     },
     "execution_count": 4,
     "metadata": {},
     "output_type": "execute_result"
    }
   ],
   "source": [
    "back = Aer.get_backend('qasm_simulator')\n",
    "result = execute(qc,back,shots=2048).result()\n",
    "counts = result.get_counts(qc)\n",
    "print(counts)\n",
    "\n",
    "plot_histogram(counts)"
   ]
  },
  {
   "cell_type": "code",
   "execution_count": 5,
   "id": "textile-recycling",
   "metadata": {},
   "outputs": [],
   "source": [
    "def live(nh):\n",
    "    v=nh\n",
    "    a=0\n",
    "    for i in [0,2]:\n",
    "        a+=(v[1][1][i]+v[i][1][1]+v[1][i][1])/2\n",
    "    for i in [0,2]:\n",
    "        a+=(v[0][i][0]+v[0][i][2]+v[2][i][0]+v[2][i][2])/8\n",
    "    a+=(v[1][0][0]+v[1][2][2]+v[1][2][0]+v[1][0][2]+v[0][0][1]+v[0][1][0]+v[0][1][2]+v[0][2][1]+v[2][0][1]+v[2][1][0]+v[2][1][2]+v[2][2][1])/4\n",
    "    return a\n",
    "\n",
    "def gol(nh):\n",
    "    a=live(nh)\n",
    "    \n",
    "    value=nh[1][1][1]\n",
    "    alive = np.array([1.0,0.0])\n",
    "    dead = np.array([0.0,1.0])\n",
    "    B = np.array([[0,0],[1,1]])\n",
    "    D = np.array([[1,1],[0,0]])\n",
    "    S = np.array([[1,0],[0,1]])\n",
    "    \n",
    "    if a <= 1:\n",
    "        value =  dead\n",
    "    elif (a > 1 and a <= 3):\n",
    "        value = ((np.sqrt(2)+1)*2-(np.sqrt(2)+1)*a)*dead+(a-1)*value#(((np.sqrt(2)+1)*(2-a))**2+(a-1)**2)\n",
    "    elif (a > 3 and a <= 4):\n",
    "        value = (((np.sqrt(2)+1)*3)-(np.sqrt(2)+1)*a)*value+(a-2)*alive#(((np.sqrt(2)+1)*(3-a))**2+(a-2)**2)\n",
    "    elif (a > 4 and a < 5):\n",
    "        value = ((np.sqrt(2)+1)*4-(np.sqrt(2)+1)*a)*alive+(a-3)*dead#(((np.sqrt(2)+1)*(4-a))**2+(a-3)**2)\n",
    "    elif a >= 5:\n",
    "        value = dead\n",
    "    \n",
    "    value = value/np.linalg.norm(value)\n",
    "    a=a/8\n",
    "    a = a/np.linalg.norm(a)\n",
    "    qr = QuantumRegister(5)\n",
    "    qc = QuantumCircuit(qr,name='Morpheous')\n",
    "    qc.initialize([a,0],[qr[0]])\n",
    "    qc.initialize(value,[qr[1]])\n",
    "    qc.initialize(value,[qr[2]])\n",
    "    qc.cx(qr[0],qr[2])\n",
    "    qc.cx(qr[1],qr[3])\n",
    "    qc.cx(qr[2],qr[4])\n",
    "    qc.cx(qr[4],qr[1])\n",
    "    \n",
    "    qc.barrier()\n",
    "    qc.append(diffuser(5),range(5))\n",
    "    qc.append(something(5,[int(a)]),range(5))\n",
    "    \n",
    "    back = Aer.get_backend('qasm_simulator')\n",
    "    print(qc.draw())\n",
    "    #result = execute(qc,back,shots=1).result()\n",
    "    #counts = result.get_counts(qc)\n",
    "    return qc\n",
    "    return value\n"
   ]
  },
  {
   "cell_type": "code",
   "execution_count": 6,
   "id": "isolated-clearing",
   "metadata": {},
   "outputs": [],
   "source": [
    "t=np.random.rand(3,3,3)\n"
   ]
  },
  {
   "cell_type": "code",
   "execution_count": 7,
   "id": "opening-temple",
   "metadata": {},
   "outputs": [
    {
     "name": "stdout",
     "output_type": "stream",
     "text": [
      "5 qubits, basis state [1] marked\n",
      "            ┌─────────────────┐                            ░ ┌───────┐»\n",
      "q3_0: ──────┤ initialize(1,0) ├─────────■──────────────────░─┤0      ├»\n",
      "      ┌─────┴─────────────────┴──────┐  │            ┌───┐ ░ │       │»\n",
      "q3_1: ┤ initialize(0.60721,-0.79454) ├──┼────■───────┤ X ├─░─┤1      ├»\n",
      "      ├──────────────────────────────┤┌─┴─┐  │       └─┬─┘ ░ │       │»\n",
      "q3_2: ┤ initialize(0.60721,-0.79454) ├┤ X ├──┼────■────┼───░─┤2 Diff ├»\n",
      "      └──────────────────────────────┘└───┘┌─┴─┐  │    │   ░ │       │»\n",
      "q3_3: ─────────────────────────────────────┤ X ├──┼────┼───░─┤3      ├»\n",
      "                                           └───┘┌─┴─┐  │   ░ │       │»\n",
      "q3_4: ──────────────────────────────────────────┤ X ├──■───░─┤4      ├»\n",
      "                                                └───┘      ░ └───────┘»\n",
      "«      ┌────────────┐\n",
      "«q3_0: ┤0           ├\n",
      "«      │            │\n",
      "«q3_1: ┤1           ├\n",
      "«      │            │\n",
      "«q3_2: ┤2 circuit96 ├\n",
      "«      │            │\n",
      "«q3_3: ┤3           ├\n",
      "«      │            │\n",
      "«q3_4: ┤4           ├\n",
      "«      └────────────┘\n"
     ]
    }
   ],
   "source": [
    "qc=gol(t)"
   ]
  },
  {
   "cell_type": "code",
   "execution_count": 8,
   "id": "inappropriate-slide",
   "metadata": {},
   "outputs": [
    {
     "ename": "DAGCircuitError",
     "evalue": "'expected 5 wires, got 10'",
     "output_type": "error",
     "traceback": [
      "\u001b[0;31m---------------------------------------------------------------------------\u001b[0m",
      "\u001b[0;31mDAGCircuitError\u001b[0m                           Traceback (most recent call last)",
      "\u001b[0;32m<ipython-input-8-af20d85d058b>\u001b[0m in \u001b[0;36m<module>\u001b[0;34m\u001b[0m\n\u001b[1;32m      1\u001b[0m \u001b[0mback\u001b[0m \u001b[0;34m=\u001b[0m \u001b[0mAer\u001b[0m\u001b[0;34m.\u001b[0m\u001b[0mget_backend\u001b[0m\u001b[0;34m(\u001b[0m\u001b[0;34m'qasm_simulator'\u001b[0m\u001b[0;34m)\u001b[0m\u001b[0;34m\u001b[0m\u001b[0;34m\u001b[0m\u001b[0m\n\u001b[0;32m----> 2\u001b[0;31m \u001b[0mresult\u001b[0m \u001b[0;34m=\u001b[0m \u001b[0mexecute\u001b[0m\u001b[0;34m(\u001b[0m\u001b[0mqc\u001b[0m\u001b[0;34m,\u001b[0m\u001b[0mback\u001b[0m\u001b[0;34m,\u001b[0m\u001b[0mshots\u001b[0m\u001b[0;34m=\u001b[0m\u001b[0;36m2048\u001b[0m\u001b[0;34m)\u001b[0m\u001b[0;34m.\u001b[0m\u001b[0mresult\u001b[0m\u001b[0;34m(\u001b[0m\u001b[0;34m)\u001b[0m\u001b[0;34m\u001b[0m\u001b[0;34m\u001b[0m\u001b[0m\n\u001b[0m\u001b[1;32m      3\u001b[0m \u001b[0mcounts\u001b[0m \u001b[0;34m=\u001b[0m \u001b[0mresult\u001b[0m\u001b[0;34m.\u001b[0m\u001b[0mget_counts\u001b[0m\u001b[0;34m(\u001b[0m\u001b[0mqc\u001b[0m\u001b[0;34m)\u001b[0m\u001b[0;34m\u001b[0m\u001b[0;34m\u001b[0m\u001b[0m\n\u001b[1;32m      4\u001b[0m \u001b[0mprint\u001b[0m\u001b[0;34m(\u001b[0m\u001b[0mcounts\u001b[0m\u001b[0;34m)\u001b[0m\u001b[0;34m\u001b[0m\u001b[0;34m\u001b[0m\u001b[0m\n\u001b[1;32m      5\u001b[0m \u001b[0;34m\u001b[0m\u001b[0m\n",
      "\u001b[0;32m/opt/conda/lib/python3.7/site-packages/qiskit/execute.py\u001b[0m in \u001b[0;36mexecute\u001b[0;34m(experiments, backend, basis_gates, coupling_map, backend_properties, initial_layout, seed_transpiler, optimization_level, pass_manager, qobj_id, qobj_header, shots, memory, max_credits, seed_simulator, default_qubit_los, default_meas_los, schedule_los, meas_level, meas_return, memory_slots, memory_slot_size, rep_time, rep_delay, parameter_binds, schedule_circuit, inst_map, meas_map, scheduling_method, init_qubits, **run_config)\u001b[0m\n\u001b[1;32m    257\u001b[0m                                 \u001b[0mseed_transpiler\u001b[0m\u001b[0;34m=\u001b[0m\u001b[0mseed_transpiler\u001b[0m\u001b[0;34m,\u001b[0m\u001b[0;34m\u001b[0m\u001b[0;34m\u001b[0m\u001b[0m\n\u001b[1;32m    258\u001b[0m                                 \u001b[0moptimization_level\u001b[0m\u001b[0;34m=\u001b[0m\u001b[0moptimization_level\u001b[0m\u001b[0;34m,\u001b[0m\u001b[0;34m\u001b[0m\u001b[0;34m\u001b[0m\u001b[0m\n\u001b[0;32m--> 259\u001b[0;31m                                 backend=backend)\n\u001b[0m\u001b[1;32m    260\u001b[0m \u001b[0;34m\u001b[0m\u001b[0m\n\u001b[1;32m    261\u001b[0m     \u001b[0;32mif\u001b[0m \u001b[0mschedule_circuit\u001b[0m\u001b[0;34m:\u001b[0m\u001b[0;34m\u001b[0m\u001b[0;34m\u001b[0m\u001b[0m\n",
      "\u001b[0;32m/opt/conda/lib/python3.7/site-packages/qiskit/compiler/transpile.py\u001b[0m in \u001b[0;36mtranspile\u001b[0;34m(circuits, backend, basis_gates, coupling_map, backend_properties, initial_layout, layout_method, routing_method, translation_method, scheduling_method, instruction_durations, dt, seed_transpiler, optimization_level, pass_manager, callback, output_name)\u001b[0m\n\u001b[1;32m    241\u001b[0m \u001b[0;34m\u001b[0m\u001b[0m\n\u001b[1;32m    242\u001b[0m     \u001b[0;31m# Transpile circuits in parallel\u001b[0m\u001b[0;34m\u001b[0m\u001b[0;34m\u001b[0m\u001b[0;34m\u001b[0m\u001b[0m\n\u001b[0;32m--> 243\u001b[0;31m     \u001b[0mcircuits\u001b[0m \u001b[0;34m=\u001b[0m \u001b[0mparallel_map\u001b[0m\u001b[0;34m(\u001b[0m\u001b[0m_transpile_circuit\u001b[0m\u001b[0;34m,\u001b[0m \u001b[0mlist\u001b[0m\u001b[0;34m(\u001b[0m\u001b[0mzip\u001b[0m\u001b[0;34m(\u001b[0m\u001b[0mcircuits\u001b[0m\u001b[0;34m,\u001b[0m \u001b[0mtranspile_args\u001b[0m\u001b[0;34m)\u001b[0m\u001b[0;34m)\u001b[0m\u001b[0;34m)\u001b[0m\u001b[0;34m\u001b[0m\u001b[0;34m\u001b[0m\u001b[0m\n\u001b[0m\u001b[1;32m    244\u001b[0m \u001b[0;34m\u001b[0m\u001b[0m\n\u001b[1;32m    245\u001b[0m     \u001b[0mend_time\u001b[0m \u001b[0;34m=\u001b[0m \u001b[0mtime\u001b[0m\u001b[0;34m(\u001b[0m\u001b[0;34m)\u001b[0m\u001b[0;34m\u001b[0m\u001b[0;34m\u001b[0m\u001b[0m\n",
      "\u001b[0;32m/opt/conda/lib/python3.7/site-packages/qiskit/tools/parallel.py\u001b[0m in \u001b[0;36mparallel_map\u001b[0;34m(task, values, task_args, task_kwargs, num_processes)\u001b[0m\n\u001b[1;32m    104\u001b[0m         \u001b[0;32mreturn\u001b[0m \u001b[0;34m[\u001b[0m\u001b[0;34m]\u001b[0m\u001b[0;34m\u001b[0m\u001b[0;34m\u001b[0m\u001b[0m\n\u001b[1;32m    105\u001b[0m     \u001b[0;32mif\u001b[0m \u001b[0mlen\u001b[0m\u001b[0;34m(\u001b[0m\u001b[0mvalues\u001b[0m\u001b[0;34m)\u001b[0m \u001b[0;34m==\u001b[0m \u001b[0;36m1\u001b[0m\u001b[0;34m:\u001b[0m\u001b[0;34m\u001b[0m\u001b[0;34m\u001b[0m\u001b[0m\n\u001b[0;32m--> 106\u001b[0;31m         \u001b[0;32mreturn\u001b[0m \u001b[0;34m[\u001b[0m\u001b[0mtask\u001b[0m\u001b[0;34m(\u001b[0m\u001b[0mvalues\u001b[0m\u001b[0;34m[\u001b[0m\u001b[0;36m0\u001b[0m\u001b[0;34m]\u001b[0m\u001b[0;34m,\u001b[0m \u001b[0;34m*\u001b[0m\u001b[0mtask_args\u001b[0m\u001b[0;34m,\u001b[0m \u001b[0;34m**\u001b[0m\u001b[0mtask_kwargs\u001b[0m\u001b[0;34m)\u001b[0m\u001b[0;34m]\u001b[0m\u001b[0;34m\u001b[0m\u001b[0;34m\u001b[0m\u001b[0m\n\u001b[0m\u001b[1;32m    107\u001b[0m \u001b[0;34m\u001b[0m\u001b[0m\n\u001b[1;32m    108\u001b[0m     \u001b[0mPublisher\u001b[0m\u001b[0;34m(\u001b[0m\u001b[0;34m)\u001b[0m\u001b[0;34m.\u001b[0m\u001b[0mpublish\u001b[0m\u001b[0;34m(\u001b[0m\u001b[0;34m\"terra.parallel.start\"\u001b[0m\u001b[0;34m,\u001b[0m \u001b[0mlen\u001b[0m\u001b[0;34m(\u001b[0m\u001b[0mvalues\u001b[0m\u001b[0;34m)\u001b[0m\u001b[0;34m)\u001b[0m\u001b[0;34m\u001b[0m\u001b[0;34m\u001b[0m\u001b[0m\n",
      "\u001b[0;32m/opt/conda/lib/python3.7/site-packages/qiskit/compiler/transpile.py\u001b[0m in \u001b[0;36m_transpile_circuit\u001b[0;34m(circuit_config_tuple)\u001b[0m\n\u001b[1;32m    325\u001b[0m \u001b[0;34m\u001b[0m\u001b[0m\n\u001b[1;32m    326\u001b[0m     result = pass_manager.run(circuit, callback=transpile_config['callback'],\n\u001b[0;32m--> 327\u001b[0;31m                               output_name=transpile_config['output_name'])\n\u001b[0m\u001b[1;32m    328\u001b[0m \u001b[0;34m\u001b[0m\u001b[0m\n\u001b[1;32m    329\u001b[0m     \u001b[0;32mif\u001b[0m \u001b[0mtranspile_config\u001b[0m\u001b[0;34m[\u001b[0m\u001b[0;34m'faulty_qubits_map'\u001b[0m\u001b[0;34m]\u001b[0m\u001b[0;34m:\u001b[0m\u001b[0;34m\u001b[0m\u001b[0;34m\u001b[0m\u001b[0m\n",
      "\u001b[0;32m/opt/conda/lib/python3.7/site-packages/qiskit/transpiler/passmanager.py\u001b[0m in \u001b[0;36mrun\u001b[0;34m(self, circuits, output_name, callback)\u001b[0m\n\u001b[1;32m    223\u001b[0m         \"\"\"\n\u001b[1;32m    224\u001b[0m         \u001b[0;32mif\u001b[0m \u001b[0misinstance\u001b[0m\u001b[0;34m(\u001b[0m\u001b[0mcircuits\u001b[0m\u001b[0;34m,\u001b[0m \u001b[0mQuantumCircuit\u001b[0m\u001b[0;34m)\u001b[0m\u001b[0;34m:\u001b[0m\u001b[0;34m\u001b[0m\u001b[0;34m\u001b[0m\u001b[0m\n\u001b[0;32m--> 225\u001b[0;31m             \u001b[0;32mreturn\u001b[0m \u001b[0mself\u001b[0m\u001b[0;34m.\u001b[0m\u001b[0m_run_single_circuit\u001b[0m\u001b[0;34m(\u001b[0m\u001b[0mcircuits\u001b[0m\u001b[0;34m,\u001b[0m \u001b[0moutput_name\u001b[0m\u001b[0;34m,\u001b[0m \u001b[0mcallback\u001b[0m\u001b[0;34m)\u001b[0m\u001b[0;34m\u001b[0m\u001b[0;34m\u001b[0m\u001b[0m\n\u001b[0m\u001b[1;32m    226\u001b[0m         \u001b[0;32melif\u001b[0m \u001b[0mlen\u001b[0m\u001b[0;34m(\u001b[0m\u001b[0mcircuits\u001b[0m\u001b[0;34m)\u001b[0m \u001b[0;34m==\u001b[0m \u001b[0;36m1\u001b[0m\u001b[0;34m:\u001b[0m\u001b[0;34m\u001b[0m\u001b[0;34m\u001b[0m\u001b[0m\n\u001b[1;32m    227\u001b[0m             \u001b[0;32mreturn\u001b[0m \u001b[0mself\u001b[0m\u001b[0;34m.\u001b[0m\u001b[0m_run_single_circuit\u001b[0m\u001b[0;34m(\u001b[0m\u001b[0mcircuits\u001b[0m\u001b[0;34m[\u001b[0m\u001b[0;36m0\u001b[0m\u001b[0;34m]\u001b[0m\u001b[0;34m,\u001b[0m \u001b[0moutput_name\u001b[0m\u001b[0;34m,\u001b[0m \u001b[0mcallback\u001b[0m\u001b[0;34m)\u001b[0m\u001b[0;34m\u001b[0m\u001b[0;34m\u001b[0m\u001b[0m\n",
      "\u001b[0;32m/opt/conda/lib/python3.7/site-packages/qiskit/transpiler/passmanager.py\u001b[0m in \u001b[0;36m_run_single_circuit\u001b[0;34m(self, circuit, output_name, callback)\u001b[0m\n\u001b[1;32m    286\u001b[0m         \u001b[0;32mif\u001b[0m \u001b[0mcallback\u001b[0m \u001b[0;32mis\u001b[0m \u001b[0;32mNone\u001b[0m \u001b[0;32mand\u001b[0m \u001b[0mself\u001b[0m\u001b[0;34m.\u001b[0m\u001b[0mcallback\u001b[0m\u001b[0;34m:\u001b[0m  \u001b[0;31m# TODO to remove with __init__(callback)\u001b[0m\u001b[0;34m\u001b[0m\u001b[0;34m\u001b[0m\u001b[0m\n\u001b[1;32m    287\u001b[0m             \u001b[0mcallback\u001b[0m \u001b[0;34m=\u001b[0m \u001b[0mself\u001b[0m\u001b[0;34m.\u001b[0m\u001b[0mcallback\u001b[0m\u001b[0;34m\u001b[0m\u001b[0;34m\u001b[0m\u001b[0m\n\u001b[0;32m--> 288\u001b[0;31m         \u001b[0mresult\u001b[0m \u001b[0;34m=\u001b[0m \u001b[0mrunning_passmanager\u001b[0m\u001b[0;34m.\u001b[0m\u001b[0mrun\u001b[0m\u001b[0;34m(\u001b[0m\u001b[0mcircuit\u001b[0m\u001b[0;34m,\u001b[0m \u001b[0moutput_name\u001b[0m\u001b[0;34m=\u001b[0m\u001b[0moutput_name\u001b[0m\u001b[0;34m,\u001b[0m \u001b[0mcallback\u001b[0m\u001b[0;34m=\u001b[0m\u001b[0mcallback\u001b[0m\u001b[0;34m)\u001b[0m\u001b[0;34m\u001b[0m\u001b[0;34m\u001b[0m\u001b[0m\n\u001b[0m\u001b[1;32m    289\u001b[0m         \u001b[0mself\u001b[0m\u001b[0;34m.\u001b[0m\u001b[0mproperty_set\u001b[0m \u001b[0;34m=\u001b[0m \u001b[0mrunning_passmanager\u001b[0m\u001b[0;34m.\u001b[0m\u001b[0mproperty_set\u001b[0m\u001b[0;34m\u001b[0m\u001b[0;34m\u001b[0m\u001b[0m\n\u001b[1;32m    290\u001b[0m         \u001b[0;32mreturn\u001b[0m \u001b[0mresult\u001b[0m\u001b[0;34m\u001b[0m\u001b[0;34m\u001b[0m\u001b[0m\n",
      "\u001b[0;32m/opt/conda/lib/python3.7/site-packages/qiskit/transpiler/runningpassmanager.py\u001b[0m in \u001b[0;36mrun\u001b[0;34m(***failed resolving arguments***)\u001b[0m\n\u001b[1;32m    111\u001b[0m         \u001b[0;32mfor\u001b[0m \u001b[0mpassset\u001b[0m \u001b[0;32min\u001b[0m \u001b[0mself\u001b[0m\u001b[0;34m.\u001b[0m\u001b[0mworking_list\u001b[0m\u001b[0;34m:\u001b[0m\u001b[0;34m\u001b[0m\u001b[0;34m\u001b[0m\u001b[0m\n\u001b[1;32m    112\u001b[0m             \u001b[0;32mfor\u001b[0m \u001b[0mpass_\u001b[0m \u001b[0;32min\u001b[0m \u001b[0mpassset\u001b[0m\u001b[0;34m:\u001b[0m\u001b[0;34m\u001b[0m\u001b[0;34m\u001b[0m\u001b[0m\n\u001b[0;32m--> 113\u001b[0;31m                 \u001b[0mdag\u001b[0m \u001b[0;34m=\u001b[0m \u001b[0mself\u001b[0m\u001b[0;34m.\u001b[0m\u001b[0m_do_pass\u001b[0m\u001b[0;34m(\u001b[0m\u001b[0mpass_\u001b[0m\u001b[0;34m,\u001b[0m \u001b[0mdag\u001b[0m\u001b[0;34m,\u001b[0m \u001b[0mpassset\u001b[0m\u001b[0;34m.\u001b[0m\u001b[0moptions\u001b[0m\u001b[0;34m)\u001b[0m\u001b[0;34m\u001b[0m\u001b[0;34m\u001b[0m\u001b[0m\n\u001b[0m\u001b[1;32m    114\u001b[0m \u001b[0;34m\u001b[0m\u001b[0m\n\u001b[1;32m    115\u001b[0m         \u001b[0mcircuit\u001b[0m \u001b[0;34m=\u001b[0m \u001b[0mdag_to_circuit\u001b[0m\u001b[0;34m(\u001b[0m\u001b[0mdag\u001b[0m\u001b[0;34m)\u001b[0m\u001b[0;34m\u001b[0m\u001b[0;34m\u001b[0m\u001b[0m\n",
      "\u001b[0;32m/opt/conda/lib/python3.7/site-packages/qiskit/transpiler/runningpassmanager.py\u001b[0m in \u001b[0;36m_do_pass\u001b[0;34m(self, pass_, dag, options)\u001b[0m\n\u001b[1;32m    142\u001b[0m         \u001b[0;31m# Run the pass itself, if not already run\u001b[0m\u001b[0;34m\u001b[0m\u001b[0;34m\u001b[0m\u001b[0;34m\u001b[0m\u001b[0m\n\u001b[1;32m    143\u001b[0m         \u001b[0;32mif\u001b[0m \u001b[0mpass_\u001b[0m \u001b[0;32mnot\u001b[0m \u001b[0;32min\u001b[0m \u001b[0mself\u001b[0m\u001b[0;34m.\u001b[0m\u001b[0mvalid_passes\u001b[0m\u001b[0;34m:\u001b[0m\u001b[0;34m\u001b[0m\u001b[0;34m\u001b[0m\u001b[0m\n\u001b[0;32m--> 144\u001b[0;31m             \u001b[0mdag\u001b[0m \u001b[0;34m=\u001b[0m \u001b[0mself\u001b[0m\u001b[0;34m.\u001b[0m\u001b[0m_run_this_pass\u001b[0m\u001b[0;34m(\u001b[0m\u001b[0mpass_\u001b[0m\u001b[0;34m,\u001b[0m \u001b[0mdag\u001b[0m\u001b[0;34m)\u001b[0m\u001b[0;34m\u001b[0m\u001b[0;34m\u001b[0m\u001b[0m\n\u001b[0m\u001b[1;32m    145\u001b[0m \u001b[0;34m\u001b[0m\u001b[0m\n\u001b[1;32m    146\u001b[0m             \u001b[0;31m# update the valid_passes property\u001b[0m\u001b[0;34m\u001b[0m\u001b[0;34m\u001b[0m\u001b[0;34m\u001b[0m\u001b[0m\n",
      "\u001b[0;32m/opt/conda/lib/python3.7/site-packages/qiskit/transpiler/runningpassmanager.py\u001b[0m in \u001b[0;36m_run_this_pass\u001b[0;34m(self, pass_, dag)\u001b[0m\n\u001b[1;32m    154\u001b[0m             \u001b[0;31m# Measure time if we have a callback or logging set\u001b[0m\u001b[0;34m\u001b[0m\u001b[0;34m\u001b[0m\u001b[0;34m\u001b[0m\u001b[0m\n\u001b[1;32m    155\u001b[0m             \u001b[0mstart_time\u001b[0m \u001b[0;34m=\u001b[0m \u001b[0mtime\u001b[0m\u001b[0;34m(\u001b[0m\u001b[0;34m)\u001b[0m\u001b[0;34m\u001b[0m\u001b[0;34m\u001b[0m\u001b[0m\n\u001b[0;32m--> 156\u001b[0;31m             \u001b[0mnew_dag\u001b[0m \u001b[0;34m=\u001b[0m \u001b[0mpass_\u001b[0m\u001b[0;34m.\u001b[0m\u001b[0mrun\u001b[0m\u001b[0;34m(\u001b[0m\u001b[0mdag\u001b[0m\u001b[0;34m)\u001b[0m\u001b[0;34m\u001b[0m\u001b[0;34m\u001b[0m\u001b[0m\n\u001b[0m\u001b[1;32m    157\u001b[0m             \u001b[0mend_time\u001b[0m \u001b[0;34m=\u001b[0m \u001b[0mtime\u001b[0m\u001b[0;34m(\u001b[0m\u001b[0;34m)\u001b[0m\u001b[0;34m\u001b[0m\u001b[0;34m\u001b[0m\u001b[0m\n\u001b[1;32m    158\u001b[0m             \u001b[0mrun_time\u001b[0m \u001b[0;34m=\u001b[0m \u001b[0mend_time\u001b[0m \u001b[0;34m-\u001b[0m \u001b[0mstart_time\u001b[0m\u001b[0;34m\u001b[0m\u001b[0;34m\u001b[0m\u001b[0m\n",
      "\u001b[0;32m/opt/conda/lib/python3.7/site-packages/qiskit/transpiler/passes/basis/unroll_custom_definitions.py\u001b[0m in \u001b[0;36mrun\u001b[0;34m(self, dag)\u001b[0m\n\u001b[1;32m     89\u001b[0m                                                    \u001b[0mself\u001b[0m\u001b[0;34m.\u001b[0m\u001b[0m_basis_gates\u001b[0m\u001b[0;34m)\u001b[0m\u001b[0;34m.\u001b[0m\u001b[0mrun\u001b[0m\u001b[0;34m(\u001b[0m\u001b[0;34m\u001b[0m\u001b[0;34m\u001b[0m\u001b[0m\n\u001b[1;32m     90\u001b[0m                                                        decomposition)\n\u001b[0;32m---> 91\u001b[0;31m             \u001b[0mdag\u001b[0m\u001b[0;34m.\u001b[0m\u001b[0msubstitute_node_with_dag\u001b[0m\u001b[0;34m(\u001b[0m\u001b[0mnode\u001b[0m\u001b[0;34m,\u001b[0m \u001b[0munrolled_dag\u001b[0m\u001b[0;34m)\u001b[0m\u001b[0;34m\u001b[0m\u001b[0;34m\u001b[0m\u001b[0m\n\u001b[0m\u001b[1;32m     92\u001b[0m \u001b[0;34m\u001b[0m\u001b[0m\n\u001b[1;32m     93\u001b[0m         \u001b[0;32mreturn\u001b[0m \u001b[0mdag\u001b[0m\u001b[0;34m\u001b[0m\u001b[0;34m\u001b[0m\u001b[0m\n",
      "\u001b[0;32m/opt/conda/lib/python3.7/site-packages/qiskit/dagcircuit/dagcircuit.py\u001b[0m in \u001b[0;36msubstitute_node_with_dag\u001b[0;34m(self, node, input_dag, wires)\u001b[0m\n\u001b[1;32m    918\u001b[0m             \u001b[0mwires\u001b[0m \u001b[0;34m=\u001b[0m \u001b[0min_dag\u001b[0m\u001b[0;34m.\u001b[0m\u001b[0mwires\u001b[0m\u001b[0;34m\u001b[0m\u001b[0;34m\u001b[0m\u001b[0m\n\u001b[1;32m    919\u001b[0m \u001b[0;34m\u001b[0m\u001b[0m\n\u001b[0;32m--> 920\u001b[0;31m         \u001b[0mself\u001b[0m\u001b[0;34m.\u001b[0m\u001b[0m_check_wires_list\u001b[0m\u001b[0;34m(\u001b[0m\u001b[0mwires\u001b[0m\u001b[0;34m,\u001b[0m \u001b[0mnode\u001b[0m\u001b[0;34m)\u001b[0m\u001b[0;34m\u001b[0m\u001b[0;34m\u001b[0m\u001b[0m\n\u001b[0m\u001b[1;32m    921\u001b[0m \u001b[0;34m\u001b[0m\u001b[0m\n\u001b[1;32m    922\u001b[0m         \u001b[0;31m# Create a proxy wire_map to identify fragments and duplicates\u001b[0m\u001b[0;34m\u001b[0m\u001b[0;34m\u001b[0m\u001b[0;34m\u001b[0m\u001b[0m\n",
      "\u001b[0;32m/opt/conda/lib/python3.7/site-packages/qiskit/dagcircuit/dagcircuit.py\u001b[0m in \u001b[0;36m_check_wires_list\u001b[0;34m(self, wires, node)\u001b[0m\n\u001b[1;32m    793\u001b[0m         \u001b[0;32mif\u001b[0m \u001b[0mlen\u001b[0m\u001b[0;34m(\u001b[0m\u001b[0mwires\u001b[0m\u001b[0;34m)\u001b[0m \u001b[0;34m!=\u001b[0m \u001b[0mwire_tot\u001b[0m\u001b[0;34m:\u001b[0m\u001b[0;34m\u001b[0m\u001b[0;34m\u001b[0m\u001b[0m\n\u001b[1;32m    794\u001b[0m             raise DAGCircuitError(\"expected %d wires, got %d\"\n\u001b[0;32m--> 795\u001b[0;31m                                   % (wire_tot, len(wires)))\n\u001b[0m\u001b[1;32m    796\u001b[0m \u001b[0;34m\u001b[0m\u001b[0m\n\u001b[1;32m    797\u001b[0m     \u001b[0;32mdef\u001b[0m \u001b[0m_make_pred_succ_maps\u001b[0m\u001b[0;34m(\u001b[0m\u001b[0mself\u001b[0m\u001b[0;34m,\u001b[0m \u001b[0mnode\u001b[0m\u001b[0;34m)\u001b[0m\u001b[0;34m:\u001b[0m\u001b[0;34m\u001b[0m\u001b[0;34m\u001b[0m\u001b[0m\n",
      "\u001b[0;31mDAGCircuitError\u001b[0m: 'expected 5 wires, got 10'"
     ]
    }
   ],
   "source": [
    "back = Aer.get_backend('qasm_simulator')\n",
    "result = execute(qc,back,shots=2048).result()\n",
    "counts = result.get_counts(qc)\n",
    "print(counts)\n",
    "\n",
    "plot_histogram(counts)"
   ]
  },
  {
   "cell_type": "code",
   "execution_count": null,
   "id": "talented-record",
   "metadata": {},
   "outputs": [],
   "source": []
  }
 ],
 "metadata": {
  "kernelspec": {
   "display_name": "Python 3",
   "language": "python",
   "name": "python3"
  },
  "language_info": {
   "codemirror_mode": {
    "name": "ipython",
    "version": 3
   },
   "file_extension": ".py",
   "mimetype": "text/x-python",
   "name": "python",
   "nbconvert_exporter": "python",
   "pygments_lexer": "ipython3",
   "version": "3.8.8"
  }
 },
 "nbformat": 4,
 "nbformat_minor": 5
}
