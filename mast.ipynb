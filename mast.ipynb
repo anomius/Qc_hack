{
 "cells": [
  {
   "source": [
    "# 3D Quantum game of life\n",
    "\n",
    "This work is heavly inspired by\n",
    "Semi quantum simulation based on: https://arxiv.org/pdf/1902.07835.pdf.\n",
    "and through QC hack's IBM  Grover algorithm Workshop\n",
    "  \n"
   ],
   "cell_type": "markdown",
   "metadata": {}
  },
  {
   "source": [
    "## Just importing important stuff"
   ],
   "cell_type": "markdown",
   "metadata": {}
  },
  {
   "cell_type": "code",
   "execution_count": 13,
   "id": "southwest-denver",
   "metadata": {},
   "outputs": [
    {
     "name": "stderr",
     "output_type": "stream",
     "text": [
      "ibmqfactory.load_account:WARNING:2021-04-11 13:04:12,223: Credentials are already in use. The existing account in the session will be replaced.\n"
     ]
    }
   ],
   "source": [
    "import numpy as np\n",
    "# Importing standard Qiskit libraries\n",
    "from qiskit import QuantumCircuit, QuantumRegister, ClassicalRegister, transpile, Aer, IBMQ, execute\n",
    "from qiskit.quantum_info import Operator, Statevector\n",
    "from qiskit.providers.ibmq import least_busy\n",
    "from qiskit.tools.jupyter import *\n",
    "from qiskit.visualization import *\n",
    "\n",
    "provider = IBMQ.load_account()"
   ]
  },
  {
   "source": [
    "this is inspired by grover algorithm and creation of an oracle function\n",
    "\n",
    "I created oracle function from the tutorials porvided but didn't have a use case just yet  "
   ],
   "cell_type": "markdown",
   "metadata": {}
  },
  {
   "cell_type": "code",
   "execution_count": 2,
   "id": "freelance-rochester",
   "metadata": {},
   "outputs": [],
   "source": [
    "def phase_oracle(n, indices_to_make, name='Magic'):\n",
    "    qc = QuantumCircuit(n,name=name)\n",
    "    matx =np.identity(2**n)\n",
    "    for index in indices_to_make:\n",
    "        matx[index,index]=-1\n",
    "    qc.unitary(Operator(matx),range(n))\n",
    "    qc.draw()\n",
    "    return qc\n",
    "\n",
    "\n",
    "def diffuser(n):\n",
    "    qc = QuantumCircuit(n,name='Diff')\n",
    "    qc.h(range(n))\n",
    "    qc.append(phase_oracle(n,[0]),range(n))\n",
    "    qc.h(range(n))\n",
    "    qc.draw()\n",
    "    return qc\n",
    "\n",
    "# big ball of wibbly-wobbly, timey-wimey\n",
    "def something(n,marked):\n",
    "    qc = QuantumCircuit(n)\n",
    "    print(f'{n} qubits, basis state {marked} marked')\n",
    "    qc.h(range(n))\n",
    "    qc.append(phase_oracle(n,marked),range(n))\n",
    "    qc.append(diffuser(n),range(n))\n",
    "    return qc"
   ]
  },
  {
   "cell_type": "code",
   "execution_count": 3,
   "id": "correct-aspect",
   "metadata": {},
   "outputs": [
    {
     "name": "stdout",
     "output_type": "stream",
     "text": [
      "5 qubits, basis state [16] marked\n"
     ]
    },
    {
     "data": {
      "text/html": [
       "<pre style=\"word-wrap: normal;white-space: pre;background: #fff0;line-height: 1.1;font-family: &quot;Courier New&quot;,Courier,monospace\">     ┌───────────┐┌─┐            \n",
       "q_0: ┤0          ├┤M├────────────\n",
       "     │           │└╥┘┌─┐         \n",
       "q_1: ┤1          ├─╫─┤M├─────────\n",
       "     │           │ ║ └╥┘┌─┐      \n",
       "q_2: ┤2 circuit8 ├─╫──╫─┤M├──────\n",
       "     │           │ ║  ║ └╥┘┌─┐   \n",
       "q_3: ┤3          ├─╫──╫──╫─┤M├───\n",
       "     │           │ ║  ║  ║ └╥┘┌─┐\n",
       "q_4: ┤4          ├─╫──╫──╫──╫─┤M├\n",
       "     └───────────┘ ║  ║  ║  ║ └╥┘\n",
       "c: 5/══════════════╩══╩══╩══╩══╩═\n",
       "                   0  1  2  3  4 </pre>"
      ],
      "text/plain": [
       "     ┌───────────┐┌─┐            \n",
       "q_0: ┤0          ├┤M├────────────\n",
       "     │           │└╥┘┌─┐         \n",
       "q_1: ┤1          ├─╫─┤M├─────────\n",
       "     │           │ ║ └╥┘┌─┐      \n",
       "q_2: ┤2 circuit8 ├─╫──╫─┤M├──────\n",
       "     │           │ ║  ║ └╥┘┌─┐   \n",
       "q_3: ┤3          ├─╫──╫──╫─┤M├───\n",
       "     │           │ ║  ║  ║ └╥┘┌─┐\n",
       "q_4: ┤4          ├─╫──╫──╫──╫─┤M├\n",
       "     └───────────┘ ║  ║  ║  ║ └╥┘\n",
       "c: 5/══════════════╩══╩══╩══╩══╩═\n",
       "                   0  1  2  3  4 "
      ]
     },
     "execution_count": 3,
     "metadata": {},
     "output_type": "execute_result"
    }
   ],
   "source": [
    "n=5\n",
    "x=np.random.randint(20)\n",
    "marked=[x]\n",
    "qc = QuantumCircuit(n,n)\n",
    "qc.append(something(n,marked),range(n))\n",
    "    \n",
    "qc.measure(range(n),range(n))  \n",
    "qc.draw()"
   ]
  },
  {
   "source": [
    "\n",
    "I used this as a reference where the center is the visiting point the adjacent points provide liveness index\n",
    "\n",
    "\n",
    " \n",
    "![painted sides of a cube](data:image/png;base64,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)"
   ],
   "cell_type": "markdown",
   "metadata": {}
  },
  {
   "source": [
    "* the red points (corner points) have a 0.125*value added to liveness index of center point \n",
    "* the blue points (edge points) have a 0.25*value added to liveness index of center point\n",
    "* the green point (face points) have a 0.5*value added   to liveness index of center point"
   ],
   "cell_type": "markdown",
   "metadata": {}
  },
  {
   "source": [
    "the ``` gol ``` function is the main function which contains the major Quantum circuit  which first initializes a  liveness index of the said point and use this to set the index of QRegister "
   ],
   "cell_type": "markdown",
   "metadata": {}
  },
  {
   "cell_type": "code",
   "execution_count": 35,
   "id": "destroyed-roberts",
   "metadata": {},
   "outputs": [],
   "source": [
    "def live(nh):\n",
    "    v=nh\n",
    "    a=0\n",
    "    for i in [0,2]:\n",
    "        a+=(v[1][1][i]+v[i][1][1]+v[1][i][1])/2\n",
    "    for i in [0,2]:\n",
    "        a+=(v[0][i][0]+v[0][i][2]+v[2][i][0]+v[2][i][2])/8\n",
    "    a+=(v[1][0][0]+v[1][2][2]+v[1][2][0]+v[1][0][2]+v[0][0][1]+v[0][1][0]+v[0][1][2]+v[0][2][1]+v[2][0][1]+v[2][1][0]+v[2][1][2]+v[2][2][1])/4\n",
    "    return a\n",
    "\n",
    "def gol(nh):\n",
    "    a=live(nh)\n",
    "    \n",
    "    value=nh[1][1][1]\n",
    "    alive = np.array([1.0,0.0])\n",
    "    dead = np.array([0.0,1.0])\n",
    "    B = np.array([[0,0],[1,1]])\n",
    "    D = np.array([[1,1],[0,0]])\n",
    "    S = np.array([[1,0],[0,1]])\n",
    "    \n",
    "    if a <= 1:\n",
    "        value =  dead\n",
    "    elif (a > 1 and a <= 3):\n",
    "        value = ((np.sqrt(2)+1)*2-(np.sqrt(2)+1)*a)*dead+(a-1)*value#(((np.sqrt(2)+1)*(2-a))**2+(a-1)**2)\n",
    "    elif (a > 3 and a <= 4):\n",
    "        value = (((np.sqrt(2)+1)*3)-(np.sqrt(2)+1)*a)*value+(a-2)*alive#(((np.sqrt(2)+1)*(3-a))**2+(a-2)**2)\n",
    "    elif (a > 4 and a < 5):\n",
    "        value = ((np.sqrt(2)+1)*4-(np.sqrt(2)+1)*a)*alive+(a-3)*dead#(((np.sqrt(2)+1)*(4-a))**2+(a-3)**2)\n",
    "    elif a >= 5:\n",
    "        value = dead\n",
    "    \n",
    "    value = value/np.linalg.norm(value)\n",
    "    a=a/8\n",
    "    a = a/np.linalg.norm(a)\n",
    "    qr = QuantumRegister(5)\n",
    "    cr = ClassicalRegister(5)\n",
    "    qc = QuantumCircuit(qr, cr,name='Morpheous')\n",
    "    qc.initialize([a,0],[qr[0]])\n",
    "    qc.initialize(value,[qr[1]])\n",
    "    qc.initialize(value,[qr[2]])\n",
    "    qc.cx(qr[0],qr[2])\n",
    "    qc.cx(qr[1],qr[3])\n",
    "    qc.cx(qr[2],qr[4])\n",
    "    qc.cx(qr[4],qr[1])\n",
    "    \n",
    "    qc.barrier()\n",
    "    qc.append(something(5,[int(a)]),range(5)) #had some issues h \n",
    "    qc.append(diffuser(5),range(5))\n",
    "    qc.measure(range(n),range(n)) \n",
    "    print(qc.draw())\n",
    "    back = Aer.get_backend('qasm_simulator')\n",
    "    result = execute(qc,back,shots=2048).result()\n",
    "    counts = result.get_counts(qc)\n",
    "    print(counts)\n",
    "    \n",
    "    \n",
    "    \n",
    "    #for i in data:\n",
    "        \n",
    "    \n",
    "    return counts\n"
   ]
  },
  {
   "cell_type": "code",
   "execution_count": 36,
   "id": "engaged-riverside",
   "metadata": {},
   "outputs": [
    {
     "name": "stdout",
     "output_type": "stream",
     "text": [
      "5 qubits, basis state [1] marked\n",
      "              ┌─────────────────┐                            ░ ┌─────────────┐»\n",
      "q58_0: ───────┤ initialize(1,0) ├─────────■──────────────────░─┤0            ├»\n",
      "       ┌──────┴─────────────────┴──────┐  │            ┌───┐ ░ │             │»\n",
      "q58_1: ┤ initialize(-0.018749,0.99982) ├──┼────■───────┤ X ├─░─┤1            ├»\n",
      "       ├───────────────────────────────┤┌─┴─┐  │       └─┬─┘ ░ │             │»\n",
      "q58_2: ┤ initialize(-0.018749,0.99982) ├┤ X ├──┼────■────┼───░─┤2 circuit219 ├»\n",
      "       └───────────────────────────────┘└───┘┌─┴─┐  │    │   ░ │             │»\n",
      "q58_3: ──────────────────────────────────────┤ X ├──┼────┼───░─┤3            ├»\n",
      "                                             └───┘┌─┴─┐  │   ░ │             │»\n",
      "q58_4: ───────────────────────────────────────────┤ X ├──■───░─┤4            ├»\n",
      "                                                  └───┘      ░ └─────────────┘»\n",
      " c7: 5/═══════════════════════════════════════════════════════════════════════»\n",
      "                                                                              »\n",
      "«       ┌───────┐┌─┐            \n",
      "«q58_0: ┤0      ├┤M├────────────\n",
      "«       │       │└╥┘┌─┐         \n",
      "«q58_1: ┤1      ├─╫─┤M├─────────\n",
      "«       │       │ ║ └╥┘┌─┐      \n",
      "«q58_2: ┤2 Diff ├─╫──╫─┤M├──────\n",
      "«       │       │ ║  ║ └╥┘┌─┐   \n",
      "«q58_3: ┤3      ├─╫──╫──╫─┤M├───\n",
      "«       │       │ ║  ║  ║ └╥┘┌─┐\n",
      "«q58_4: ┤4      ├─╫──╫──╫──╫─┤M├\n",
      "«       └───────┘ ║  ║  ║  ║ └╥┘\n",
      "« c7: 5/══════════╩══╩══╩══╩══╩═\n",
      "«                 0  1  2  3  4 \n",
      "{'00000': 60, '00001': 64, '10000': 61, '10001': 59, '10010': 69, '10011': 65, '10100': 58, '10101': 56, '10110': 58, '10111': 70, '11000': 66, '11001': 71, '11010': 68, '11011': 70, '11100': 60, '11101': 60, '11110': 66, '11111': 68, '00010': 72, '00011': 77, '00100': 65, '00101': 61, '00110': 46, '00111': 58, '01000': 68, '01001': 69, '01010': 71, '01011': 74, '01100': 69, '01101': 62, '01110': 51, '01111': 56}\n"
     ]
    }
   ],
   "source": [
    "t=np.random.rand(3,3,3)\n",
    "t[1][2][1]=1\n",
    "qc=gol(t)"
   ]
  },
  {
   "cell_type": "code",
   "execution_count": 38,
   "id": "proved-suspect",
   "metadata": {},
   "outputs": [
    {
     "data": {
      "image/png": "[encoded data removed]",
      "text/plain": [
       "<Figure size 504x360 with 1 Axes>"
      ]
     },
     "execution_count": 38,
     "metadata": {},
     "output_type": "execute_result"
    }
   ],
   "source": [
    "plot_histogram(qc)"
   ]
  },
  {
   "cell_type": "code",
   "execution_count": null,
   "id": "cross-contractor",
   "metadata": {},
   "outputs": [],
   "source": []
  },
  {
   "cell_type": "code",
   "execution_count": null,
   "id": "turkish-national",
   "metadata": {},
   "outputs": [],
   "source": []
  },
  {
   "cell_type": "code",
   "execution_count": null,
   "metadata": {},
   "outputs": [],
   "source": []
  }
 ],
 "metadata": {
  "kernelspec": {
   "name": "python38364bit733a0335af834986af55efab40086e50",
   "display_name": "Python 3.8.3 64-bit"
  },
  "language_info": {
   "codemirror_mode": {
    "name": "ipython",
    "version": 3
   },
   "file_extension": ".py",
   "mimetype": "text/x-python",
   "name": "python",
   "nbconvert_exporter": "python",
   "pygments_lexer": "ipython3",
   "version": "3.8.3"
  },
  "metadata": {
   "interpreter": {
    "hash": "2db524e06e9f5f4ffedc911c917cb75e12dbc923643829bf417064a77eb14d37"
   }
  }
 },
 "nbformat": 4,
 "nbformat_minor": 5
}