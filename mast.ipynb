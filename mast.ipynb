{
 "cells": [
  {
   "cell_type": "code",
   "execution_count": null,
   "id": "ca223d48",
   "metadata": {},
   "outputs": [],
   "source": [
    "import numpy as np\n",
    "# Importing standard Qiskit libraries\n",
    "from qiskit import QuantumCircuit, transpile, Aer, IBMQ, execute\n",
    "from qiskit.quantum_info import Operator\n",
    "from qiskit.providers.ibmq import least_busy\n",
    "from qiskit.tools.jupyter import *\n",
    "from qiskit.visualization import *\n",
    "from ibm_quantum_widgets import *\n",
    "\n",
    "# Loading your IBM Q account(s)\n",
    "IBMQ.get_provider(hub='ibm-q', group='open', project='main')\n",
    "provider = IBMQ.load_account()"
   ]
  },
  {
   "cell_type": "code",
   "execution_count": null,
   "id": "b366479d",
   "metadata": {},
   "outputs": [],
   "source": [
    "def phase_oracle(n, indices_to_make, name='Magic'):\n",
    "    qc = QuantumCircuit(n,name=name)\n",
    "    matx =np.identity(2**n)\n",
    "    for index in indices_to_make:\n",
    "        matx[index,index]=-1\n",
    "    qc.unitary(Operator(matx),range(n))\n",
    "    qc.draw()\n",
    "    return qc\n",
    "\n",
    "\n",
    "def diffuser(n):\n",
    "    qc = QuantumCircuit(n,name='Diff')\n",
    "    qc.h(range(n))\n",
    "    qc.append(phase_oracle(n,[0]),range(n))\n",
    "    qc.h(range(n))\n",
    "    qc.draw()\n",
    "    return qc\n",
    "\n",
    "# big ball of wibbly-wobbly, timey-wimey\n",
    "def something(n,marked):\n",
    "    qc = QuantumCircuit(n, n)\n",
    "    print(f'{n} qubits, basis state {marked} marked')\n",
    "    qc.h(range(n))\n",
    "    qc.append(phase_oracle(n,marked),range(n))\n",
    "    qc.append(diffuser(n),range(n))\n",
    "    \n",
    "    qc.measure(range(n),range(n))\n",
    "    return qc"
   ]
  },
  {
   "cell_type": "code",
   "execution_count": null,
   "id": "c17b3c48",
   "metadata": {},
   "outputs": [],
   "source": [
    "n=5\n",
    "x=np.random.randint(20)\n",
    "marked=[x]\n",
    "qc=something(n,marked)\n",
    "\n",
    "qc.draw()"
   ]
  },
  {
   "cell_type": "code",
   "execution_count": null,
   "id": "bdbde51d",
   "metadata": {},
   "outputs": [],
   "source": [
    "back = Aer.get_backend('qasm_simulator')\n",
    "result = execute(qc,back,shots=2048).result()\n",
    "counts = result.get_counts(qc)\n",
    "print(counts)\n",
    "\n",
    "plot_histogram(counts)"
   ]
  },
  {
   "cell_type": "code",
   "execution_count": null,
   "id": "b96e83ff",
   "metadata": {},
   "outputs": [],
   "source": [
    "def live(nh):\n",
    "    v=nh\n",
    "    a=0\n",
    "    for i in [0,2]:\n",
    "        a+=(v[1][1][i]+v[i][1][1]+v[1][i][1])/2\n",
    "    for i in [0,2]:\n",
    "        a+=(v[0][i][0]+v[0][i][2]+v[2][i][0]+v[2][i][2])/8\n",
    "    a+=(v[1][0][0]+v[1][2][2]+v[1][2][0]+v[1][0][2]+v[0][0][1]+v[0][1][0]+v[0][1][2]+v[0][2][1]+v[2][0][1]+v[2][1][0]+v[2][1][2]+v[2][2][1])/4\n",
    "    return a\n",
    "\n",
    "def sgol(nh):\n",
    "    a=live(nh)\n",
    "    v=nh[1][1][1]\n",
    "    alive = np.array([1.0,0.0])\n",
    "    dead = np.array([0.0,1.0])\n",
    "    B = np.array([[0,0],[1,1]])\n",
    "    D = np.array([[1,1],[0,0]])\n",
    "    S = np.array([[1,0],[0,1]])\n",
    "    \n",
    "    if a <= 1:\n",
    "        value =  dead\n",
    "    elif (a > 1 and a <= 3):\n",
    "        value = ((np.sqrt(2)+1)*2-(np.sqrt(2)+1)*a)*dead+(a-1)*value#(((np.sqrt(2)+1)*(2-a))**2+(a-1)**2)\n",
    "    elif (a > 3 and a <= 4):\n",
    "        value = (((np.sqrt(2)+1)*3)-(np.sqrt(2)+1)*a)*value+(a-2)*alive#(((np.sqrt(2)+1)*(3-a))**2+(a-2)**2)\n",
    "    elif (a > 4 and a < 5):\n",
    "        value = ((np.sqrt(2)+1)*4-(np.sqrt(2)+1)*a)*alive+(a-3)*dead#(((np.sqrt(2)+1)*(4-a))**2+(a-3)**2)\n",
    "    elif a >= 5:\n",
    "        value = dead\n",
    "    \n",
    "    value = value/np.linalg.norm(value)\n",
    "    \n",
    "    qr = QuntumRegister(5)\n",
    "    qc = QuantumCircuit(qr,name='Morpheous')\n",
    "    qc.initialize(a,[qr[0]])\n",
    "    qc.initialize(value,[qr[1]])\n",
    "    qc.initialize(value,[qr[2]])\n",
    "    qc.cx(qr[0],qr[2])\n",
    "    qc.cx(qr[1],qr[3])\n",
    "    qc.cx(qr[2],qr[4])\n",
    "    qc.cx(qr[4],qr[2])\n",
    "    \n",
    "    qc.barrier()\n",
    "    qc.append(diffuser(5))\n",
    "    \n",
    "    back = Aer.get_backend('statevector_simulator')\n",
    "    vect = execute(qc,back).result().get_statevector()\n",
    "    qc.draw()\n",
    "    del qr\n",
    "    del qc\n",
    "    value = partial_trace(vect,[1,2,3,4])[0]\n",
    "    value = np.real(value)\n",
    "    \n",
    "    \n",
    "    return value\n",
    "\n",
    "\n"
   ]
  },
  {
   "cell_type": "code",
   "execution_count": null,
   "id": "8482ba5a",
   "metadata": {},
   "outputs": [],
   "source": [
    "np.random.rand(3,3,3)"
   ]
  },
  {
   "cell_type": "code",
   "execution_count": null,
   "id": "8e9b4308",
   "metadata": {},
   "outputs": [],
   "source": []
  }
 ],
 "metadata": {
  "kernelspec": {
   "display_name": "Python 3",
   "language": "python",
   "name": "python3"
  },
  "language_info": {
   "codemirror_mode": {
    "name": "ipython",
    "version": 3
   },
   "file_extension": ".py",
   "mimetype": "text/x-python",
   "name": "python",
   "nbconvert_exporter": "python",
   "pygments_lexer": "ipython3",
   "version": "3.8.8"
  }
 },
 "nbformat": 4,
 "nbformat_minor": 5
}